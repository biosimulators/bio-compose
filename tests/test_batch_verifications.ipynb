{
 "cells": [
  {
   "metadata": {
    "ExecuteTime": {
     "end_time": "2024-12-19T20:40:05.107155Z",
     "start_time": "2024-12-19T20:40:05.104231Z"
    }
   },
   "cell_type": "code",
   "source": [
    "import os\n",
    "import bio_compose\n",
    "import requests\n",
    "import warnings\n",
    "import zipfile\n",
    "import numpy as np"
   ],
   "id": "2cdb8ebf8192585b",
   "outputs": [],
   "execution_count": 29
  },
  {
   "metadata": {
    "ExecuteTime": {
     "end_time": "2024-12-19T20:40:07.453750Z",
     "start_time": "2024-12-19T20:40:07.450818Z"
    }
   },
   "cell_type": "code",
   "source": [
    "model_files_dir = './fixtures/verification_request/models'\n",
    "model_files = [*map(\n",
    "    lambda f: os.path.join(model_files_dir, f),\n",
    "    os.listdir(model_files_dir)\n",
    ")]"
   ],
   "id": "c1a247fc136003a0",
   "outputs": [],
   "execution_count": 30
  },
  {
   "metadata": {
    "ExecuteTime": {
     "end_time": "2024-12-19T20:40:29.716859Z",
     "start_time": "2024-12-19T20:40:29.713279Z"
    }
   },
   "cell_type": "code",
   "source": "",
   "id": "f186f2768b20bcf5",
   "outputs": [
    {
     "data": {
      "text/plain": [
       "21"
      ]
     },
     "execution_count": 33,
     "metadata": {},
     "output_type": "execute_result"
    }
   ],
   "execution_count": 33
  },
  {
   "metadata": {},
   "cell_type": "code",
   "outputs": [],
   "execution_count": null,
   "source": "",
   "id": "3a0f9001c85c57bb"
  }
 ],
 "metadata": {
  "kernelspec": {
   "display_name": ".venv",
   "language": "python",
   "name": ".venv"
  },
  "language_info": {
   "codemirror_mode": {
    "name": "ipython",
    "version": 3
   },
   "file_extension": ".py",
   "mimetype": "text/x-python",
   "name": "python",
   "nbconvert_exporter": "python",
   "pygments_lexer": "ipython3",
   "version": "3.10.15"
  }
 },
 "nbformat": 4,
 "nbformat_minor": 5
}
