{
 "cells": [
  {
   "cell_type": "code",
   "id": "7b419ad9853e2a9",
   "metadata": {
    "ExecuteTime": {
     "end_time": "2024-09-20T17:44:18.784193Z",
     "start_time": "2024-09-20T17:44:18.781445Z"
    }
   },
   "source": [
    "omex_fp = './fixtures/sbml-core/edelstein.omex'\n",
    "omex_fp2 = './fixtures/sbml-core/Elowitz-Nature-2000-Repressilator.omex'\n",
    "sbml_fp = './fixtures/sbml-core/BIOMD0000000001_url.xml'\n",
    "test_fp = '/Users/alexanderpatrie/Downloads/BorisEJB.xml'\n",
    "sims = ['copasi', 'tellurium']\n",
    "start = 0\n",
    "stop = 10\n",
    "steps = 100"
   ],
   "outputs": [],
   "execution_count": 4
  },
  {
   "cell_type": "code",
   "id": "ee890ab2",
   "metadata": {
    "ExecuteTime": {
     "end_time": "2024-09-20T17:44:19.826607Z",
     "start_time": "2024-09-20T17:44:19.824568Z"
    }
   },
   "source": [
    "import os \n",
    "import bio_compose as bc "
   ],
   "outputs": [],
   "execution_count": 5
  },
  {
   "metadata": {
    "ExecuteTime": {
     "end_time": "2024-09-20T17:44:33.624256Z",
     "start_time": "2024-09-20T17:44:20.583967Z"
    }
   },
   "cell_type": "code",
   "source": "verification = bc.verify(test_fp, start, stop, steps)",
   "id": "edd1ad59f4f46eb9",
   "outputs": [
    {
     "name": "stdout",
     "output_type": "stream",
     "text": [
      "Submitting verification...\n",
      "> Status for job ending in e945: SUBMITTED:PENDING \n",
      "> Status for job ending in e945: COMPLETED \n"
     ]
    }
   ],
   "execution_count": 6
  },
  {
   "metadata": {
    "ExecuteTime": {
     "end_time": "2024-09-20T17:44:37.326907Z",
     "start_time": "2024-09-20T17:44:37.323966Z"
    }
   },
   "cell_type": "code",
   "source": "verification",
   "id": "7f3c049ff2ad6690",
   "outputs": [
    {
     "data": {
      "text/plain": [
       "{'content': {'job_id': 'verification-bio_check-request-f6b5a78c-3093-4397-b07c-e42732e3d29d-a5953f9e-2bca-452b-98ec-ead19ee1e945',\n",
       "  'timestamp': '2024-09-20 17:44:30.585711',\n",
       "  'status': 'COMPLETED',\n",
       "  'results': {'rmse': {}},\n",
       "  'source': 'BorisEJB.xml'}}"
      ]
     },
     "execution_count": 7,
     "metadata": {},
     "output_type": "execute_result"
    }
   ],
   "execution_count": 7
  },
  {
   "metadata": {},
   "cell_type": "code",
   "outputs": [],
   "execution_count": null,
   "source": "",
   "id": "fb88f91d8267ecd1"
  }
 ],
 "metadata": {
  "kernelspec": {
   "display_name": "Python 3 (ipykernel)",
   "language": "python",
   "name": "python3"
  },
  "language_info": {
   "codemirror_mode": {
    "name": "ipython",
    "version": 3
   },
   "file_extension": ".py",
   "mimetype": "text/x-python",
   "name": "python",
   "nbconvert_exporter": "python",
   "pygments_lexer": "ipython3",
   "version": "3.10.14"
  }
 },
 "nbformat": 4,
 "nbformat_minor": 5
}
