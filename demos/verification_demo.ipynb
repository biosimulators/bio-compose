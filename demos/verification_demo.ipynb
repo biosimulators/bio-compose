{
 "cells": [
  {
   "metadata": {},
   "cell_type": "code",
   "outputs": [],
   "execution_count": null,
   "source": "# !pip install -q bio-compose",
   "id": "2e8d2c971f17edd0"
  },
  {
   "cell_type": "code",
   "id": "initial_id",
   "metadata": {
    "collapsed": true,
    "ExecuteTime": {
     "end_time": "2024-08-29T17:59:12.374909Z",
     "start_time": "2024-08-29T17:59:12.371480Z"
    }
   },
   "source": [
    "import sys \n",
    "import os \n",
    "sys.path.insert(0, '..')\n",
    "\n",
    "from bio_compose.verifier import Verifier\n",
    "\n",
    "sbml_fp = '../tests/fixtures/sbml-core/BIOMD0000000005_url.xml'\n",
    "start = 0\n",
    "end = 10\n",
    "steps = 100\n",
    "simulators = ['amici', 'copasi', 'tellurium']"
   ],
   "outputs": [],
   "execution_count": 2
  },
  {
   "metadata": {},
   "cell_type": "code",
   "outputs": [],
   "execution_count": null,
   "source": "",
   "id": "9c7692d52d31991e"
  }
 ],
 "metadata": {
  "kernelspec": {
   "display_name": "Python 3",
   "language": "python",
   "name": "python3"
  },
  "language_info": {
   "codemirror_mode": {
    "name": "ipython",
    "version": 2
   },
   "file_extension": ".py",
   "mimetype": "text/x-python",
   "name": "python",
   "nbconvert_exporter": "python",
   "pygments_lexer": "ipython2",
   "version": "2.7.6"
  }
 },
 "nbformat": 4,
 "nbformat_minor": 5
}
